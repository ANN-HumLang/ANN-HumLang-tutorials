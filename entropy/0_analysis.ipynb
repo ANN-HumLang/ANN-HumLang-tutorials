{
 "cells": [
  {
   "cell_type": "markdown",
   "metadata": {},
   "source": [
    "# Interpreting Large Language Models with Soft Entropy"
   ]
  },
  {
   "cell_type": "markdown",
   "metadata": {},
   "source": [
    "There are major questions about multi-linguality from both a cognitive perspective and a typological perspective. An advantage of working with large language models is that they allow you to look at what happens inside the model on a representational level as it processes a sentence. We've prepared a number of datasets and models for you to look at, all listed in the ```1_resources.ipynb``` notebook. A description of the measures can be found in the file ```3_entropy_explanation.ipynb``` or in [this paper](https://arxiv.org/pdf/2406.02449).\n",
    "\n"
   ]
  },
  {
   "cell_type": "code",
   "execution_count": null,
   "metadata": {},
   "outputs": [],
   "source": [
    "# to relate with Wasserstein metric and Manifold capacity"
   ]
  },
  {
   "cell_type": "code",
   "execution_count": 1,
   "metadata": {},
   "outputs": [
    {
     "name": "stderr",
     "output_type": "stream",
     "text": [
      "Matplotlib is building the font cache; this may take a moment.\n"
     ]
    }
   ],
   "source": [
    "#We import a class for analysing BERT models and an entropy estimator\n",
    "from h import BERTAnalyser, Estimator"
   ]
  },
  {
   "cell_type": "code",
   "execution_count": 2,
   "metadata": {},
   "outputs": [],
   "source": [
    "languages = ['french', 'german', 'finnish', 'romanian', 'danish', 'spanish']"
   ]
  },
  {
   "cell_type": "code",
   "execution_count": 3,
   "metadata": {},
   "outputs": [],
   "source": [
    "save_path = 'results' #path where JSON file with results should be written\n",
    "model_id = 'distilbert/distilbert-base-multilingual-cased' #hugging face model id\n",
    "task_repo, subtask_name = 'hcoxec/french_german_mix', None #hugging face model repo and substask names\n",
    "n_batches, batch_size = 10, 256 #how many batches of data to analyse, and sentences per batch\n",
    "device = 'cpu' #torch device to load model into usually cpu or cuda:0\n",
    "cache_dir = 'model_cache' #path to directory where model files should be saved"
   ]
  },
  {
   "cell_type": "code",
   "execution_count": 4,
   "metadata": {},
   "outputs": [],
   "source": [
    "#these additional logs will also be written to the results file, to help\n",
    "#keep track of variables later\n",
    "additional_logs = {\n",
    "    \"model\" : 'm_bert',\n",
    "    \"n_examples\" : n_batches*batch_size,\n",
    "}"
   ]
  },
  {
   "cell_type": "code",
   "execution_count": 5,
   "metadata": {},
   "outputs": [
    {
     "data": {
      "application/vnd.jupyter.widget-view+json": {
       "model_id": "992bced154474f90b6407fb30a81c19c",
       "version_major": 2,
       "version_minor": 0
      },
      "text/plain": [
       "tokenizer_config.json:   0%|          | 0.00/49.0 [00:00<?, ?B/s]"
      ]
     },
     "metadata": {},
     "output_type": "display_data"
    },
    {
     "name": "stderr",
     "output_type": "stream",
     "text": [
      "/Users/josephiner/miniconda3/envs/h_interpret/lib/python3.9/site-packages/huggingface_hub/file_download.py:1132: FutureWarning: `resume_download` is deprecated and will be removed in version 1.0.0. Downloads always resume when possible. If you want to force a new download, use `force_download=True`.\n",
      "  warnings.warn(\n"
     ]
    },
    {
     "data": {
      "application/vnd.jupyter.widget-view+json": {
       "model_id": "b75a076fc61b479ab669d026c0508897",
       "version_major": 2,
       "version_minor": 0
      },
      "text/plain": [
       "config.json:   0%|          | 0.00/466 [00:00<?, ?B/s]"
      ]
     },
     "metadata": {},
     "output_type": "display_data"
    },
    {
     "data": {
      "application/vnd.jupyter.widget-view+json": {
       "model_id": "d3a62264294e44889526ebd467d8a295",
       "version_major": 2,
       "version_minor": 0
      },
      "text/plain": [
       "vocab.txt:   0%|          | 0.00/996k [00:00<?, ?B/s]"
      ]
     },
     "metadata": {},
     "output_type": "display_data"
    },
    {
     "data": {
      "application/vnd.jupyter.widget-view+json": {
       "model_id": "f78b3ac529f74b2eb39fa85985c3f0bf",
       "version_major": 2,
       "version_minor": 0
      },
      "text/plain": [
       "tokenizer.json:   0%|          | 0.00/1.96M [00:00<?, ?B/s]"
      ]
     },
     "metadata": {},
     "output_type": "display_data"
    },
    {
     "data": {
      "application/vnd.jupyter.widget-view+json": {
       "model_id": "2dbbf92623424b8fa4a16b58e604dee8",
       "version_major": 2,
       "version_minor": 0
      },
      "text/plain": [
       "model.safetensors:   0%|          | 0.00/542M [00:00<?, ?B/s]"
      ]
     },
     "metadata": {},
     "output_type": "display_data"
    },
    {
     "data": {
      "application/vnd.jupyter.widget-view+json": {
       "model_id": "f4bb63f55e7a446c9bc9fb6bfeea9a37",
       "version_major": 2,
       "version_minor": 0
      },
      "text/plain": [
       "Downloading readme:   0%|          | 0.00/319 [00:00<?, ?B/s]"
      ]
     },
     "metadata": {},
     "output_type": "display_data"
    },
    {
     "data": {
      "application/vnd.jupyter.widget-view+json": {
       "model_id": "ad610ce9f8304ddfb0dff0f68608fa60",
       "version_major": 2,
       "version_minor": 0
      },
      "text/plain": [
       "Downloading data:   0%|          | 0.00/9.97M [00:00<?, ?B/s]"
      ]
     },
     "metadata": {},
     "output_type": "display_data"
    },
    {
     "data": {
      "application/vnd.jupyter.widget-view+json": {
       "model_id": "1a3a7d8457694de28e4079dc6f45f365",
       "version_major": 2,
       "version_minor": 0
      },
      "text/plain": [
       "Generating train split:   0%|          | 0/100000 [00:00<?, ? examples/s]"
      ]
     },
     "metadata": {},
     "output_type": "display_data"
    }
   ],
   "source": [
    "h_estimator = Estimator() #instantiates and Entropy estimator\n",
    "analyser = BERTAnalyser( #intantiants an analyser and loads the bert model into memory\n",
    "    device=device,\n",
    "    h_estimator=h_estimator, \n",
    "    model_id=model_id, \n",
    "    results_file_name=save_path,\n",
    "    cache_dir=cache_dir\n",
    ")\n",
    "analyser.get_dataset(task_repo, subtask_name) #downloads the dataset\n",
    "train_loader = analyser.get_dataloader(bs=batch_size) #packages the dataset into batches\n"
   ]
  },
  {
   "cell_type": "code",
   "execution_count": 6,
   "metadata": {},
   "outputs": [
    {
     "data": {
      "application/vnd.jupyter.widget-view+json": {
       "model_id": "9213722b719c4aba9e29323ca5c157a7",
       "version_major": 2,
       "version_minor": 0
      },
      "text/plain": [
       "Encoding | hcoxec/french_german_mix:   0%|          | 0/10 [00:00<?, ?it/s]"
      ]
     },
     "metadata": {},
     "output_type": "display_data"
    },
    {
     "data": {
      "text/html": [
       "<div>\n",
       "<style scoped>\n",
       "    .dataframe tbody tr th:only-of-type {\n",
       "        vertical-align: middle;\n",
       "    }\n",
       "\n",
       "    .dataframe tbody tr th {\n",
       "        vertical-align: top;\n",
       "    }\n",
       "\n",
       "    .dataframe thead th {\n",
       "        text-align: right;\n",
       "    }\n",
       "</style>\n",
       "<table border=\"1\" class=\"dataframe\">\n",
       "  <thead>\n",
       "    <tr style=\"text-align: right;\">\n",
       "      <th></th>\n",
       "      <th>variation</th>\n",
       "      <th>residual</th>\n",
       "      <th>disentanglement</th>\n",
       "      <th>regularity</th>\n",
       "      <th>label</th>\n",
       "    </tr>\n",
       "  </thead>\n",
       "  <tbody>\n",
       "    <tr>\n",
       "      <th>overall</th>\n",
       "      <td>0.776102</td>\n",
       "      <td>0.272926</td>\n",
       "      <td>0.000000</td>\n",
       "      <td>0.000000</td>\n",
       "      <td>overall</td>\n",
       "    </tr>\n",
       "    <tr>\n",
       "      <th>language</th>\n",
       "      <td>0.730948</td>\n",
       "      <td>0.058181</td>\n",
       "      <td>0.214595</td>\n",
       "      <td>0.045154</td>\n",
       "      <td>language</td>\n",
       "    </tr>\n",
       "    <tr>\n",
       "      <th>token</th>\n",
       "      <td>0.330681</td>\n",
       "      <td>0.515740</td>\n",
       "      <td>0.488922</td>\n",
       "      <td>0.445421</td>\n",
       "      <td>token</td>\n",
       "    </tr>\n",
       "    <tr>\n",
       "      <th>bigram</th>\n",
       "      <td>0.237253</td>\n",
       "      <td>0.120381</td>\n",
       "      <td>0.247259</td>\n",
       "      <td>0.538849</td>\n",
       "      <td>bigram</td>\n",
       "    </tr>\n",
       "    <tr>\n",
       "      <th>trigram</th>\n",
       "      <td>0.211818</td>\n",
       "      <td>0.032773</td>\n",
       "      <td>0.275049</td>\n",
       "      <td>0.564284</td>\n",
       "      <td>trigram</td>\n",
       "    </tr>\n",
       "  </tbody>\n",
       "</table>\n",
       "</div>"
      ],
      "text/plain": [
       "          variation  residual  disentanglement  regularity     label\n",
       "overall    0.776102  0.272926         0.000000    0.000000   overall\n",
       "language   0.730948  0.058181         0.214595    0.045154  language\n",
       "token      0.330681  0.515740         0.488922    0.445421     token\n",
       "bigram     0.237253  0.120381         0.247259    0.538849    bigram\n",
       "trigram    0.211818  0.032773         0.275049    0.564284   trigram"
      ]
     },
     "execution_count": 6,
     "metadata": {},
     "output_type": "execute_result"
    }
   ],
   "source": [
    "h_estimator.reset() #clears the probability table from the estimator to start a new analysis\n",
    "results_dict, results_df  = analyser.online_estimation( #runs online entropy estimation for the number of batches specified\n",
    "    train_loader, \n",
    "    max_batches=n_batches, \n",
    "    additional_logs= additional_logs,\n",
    "    label_types=['language', 'token','bigram','trigram']\n",
    "\n",
    ")\n",
    "results_df"
   ]
  },
  {
   "cell_type": "code",
   "execution_count": 7,
   "metadata": {},
   "outputs": [
    {
     "data": {
      "image/png": "[encoded data removed]",
      "text/plain": [
       "<Figure size 640x480 with 1 Axes>"
      ]
     },
     "metadata": {},
     "output_type": "display_data"
    }
   ],
   "source": [
    "analyser.plot_residual(results_df) #builds a pie chart of the residual"
   ]
  },
  {
   "cell_type": "code",
   "execution_count": 8,
   "metadata": {},
   "outputs": [
    {
     "data": {
      "image/png": "[encoded data removed]",
      "text/plain": [
       "<Figure size 640x480 with 1 Axes>"
      ]
     },
     "metadata": {},
     "output_type": "display_data"
    }
   ],
   "source": [
    "analyser.plot(results_df, measure='disentanglement') #generates a bar plot of any measure"
   ]
  },
  {
   "cell_type": "code",
   "execution_count": 9,
   "metadata": {},
   "outputs": [],
   "source": [
    "import pandas as pd\n",
    "\n",
    "#loads all saved results into a dataframe for analysis\n",
    "df = pd.read_json('results.json', lines=True)\n"
   ]
  }
 ],
 "metadata": {
  "kernelspec": {
   "display_name": "Python 3 (ipykernel)",
   "language": "python",
   "name": "python3"
  },
  "language_info": {
   "codemirror_mode": {
    "name": "ipython",
    "version": 3
   },
   "file_extension": ".py",
   "mimetype": "text/x-python",
   "name": "python",
   "nbconvert_exporter": "python",
   "pygments_lexer": "ipython3",
   "version": "3.9.19"
  }
 },
 "nbformat": 4,
 "nbformat_minor": 4
}
