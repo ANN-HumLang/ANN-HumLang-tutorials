{
 "cells": [
  {
   "cell_type": "markdown",
   "metadata": {},
   "source": [
    "# Interpreting Large Language Models with Soft Entropy"
   ]
  },
  {
   "cell_type": "markdown",
   "metadata": {},
   "source": [
    "There are major questions about multi-linguality from both a cognitive perspective and a typological perspective. An advantage of working with large language models is that they allow you to look at what happens inside the model on a representational level as it processes a sentence. We've prepared a number of datasets and models for you to look at, all listed in the ```1_resources.ipynb``` notebook. A description of the measures can be found in the file ```3_entropy_explanation.ipynb``` or in [this paper](https://arxiv.org/pdf/2406.02449).\n",
    "\n"
   ]
  },
  {
   "cell_type": "code",
   "execution_count": null,
   "metadata": {},
   "outputs": [],
   "source": [
    "#We import a class for analysing BERT models and an entropy estimator\n",
    "from h import BERTAnalyser, Estimator"
   ]
  },
  {
   "cell_type": "code",
   "execution_count": null,
   "metadata": {},
   "outputs": [],
   "source": [
    "languages = ['french', 'german', 'finnish', 'romanian', 'danish', 'spanish']"
   ]
  },
  {
   "cell_type": "code",
   "execution_count": null,
   "metadata": {},
   "outputs": [],
   "source": [
    "save_path = 'results' #path where JSON file with results should be written\n",
    "model_id = 'distilbert/distilbert-base-multilingual-cased' #hugging face model id\n",
    "task_repo, subtask_name = 'hcoxec/french_german_mix', None #hugging face model repo and substask names\n",
    "n_batches, batch_size = 10, 256 #how many batches of data to analyse, and sentences per batch\n",
    "device = 'cpu' #torch device to load model into usually cpu or cuda:0\n",
    "cache_dir = 'model_cache' #path to directory where model files should be saved"
   ]
  },
  {
   "cell_type": "code",
   "execution_count": null,
   "metadata": {},
   "outputs": [],
   "source": [
    "#these additional logs will also be written to the results file, to help\n",
    "#keep track of variables later\n",
    "additional_logs = {\n",
    "    \"model\" : 'm_bert',\n",
    "    \"n_examples\" : n_batches*batch_size,\n",
    "}"
   ]
  },
  {
   "cell_type": "code",
   "execution_count": null,
   "metadata": {},
   "outputs": [],
   "source": [
    "h_estimator = Estimator() #instantiates and Entropy estimator\n",
    "analyser = BERTAnalyser( #intantiants an analyser and loads the bert model into memory\n",
    "    device=device,\n",
    "    h_estimator=h_estimator, \n",
    "    model_id=model_id, \n",
    "    results_file_name=save_path,\n",
    "    cache_dir=cache_dir\n",
    ")\n",
    "analyser.get_dataset(task_repo, subtask_name) #downloads the dataset\n",
    "train_loader = analyser.get_dataloader(bs=batch_size) #packages the dataset into batches\n"
   ]
  },
  {
   "cell_type": "code",
   "execution_count": null,
   "metadata": {},
   "outputs": [],
   "source": [
    "h_estimator.reset() #clears the probability table from the estimator to start a new analysis\n",
    "results_dict, results_df  = analyser.online_estimation( #runs online entropy estimation for the number of batches specified\n",
    "    train_loader, \n",
    "    max_batches=n_batches, \n",
    "    additional_logs= additional_logs,\n",
    "    label_types=['language', 'token','bigram','trigram']\n",
    "\n",
    ")\n",
    "results_df"
   ]
  },
  {
   "cell_type": "code",
   "execution_count": null,
   "metadata": {},
   "outputs": [],
   "source": [
    "analyser.plot_residual(results_df) #builds a pie chart of the residual"
   ]
  },
  {
   "cell_type": "code",
   "execution_count": null,
   "metadata": {},
   "outputs": [],
   "source": [
    "analyser.plot(results_df, measure='disentanglement') #generates a bar plot of any measure"
   ]
  },
  {
   "cell_type": "code",
   "execution_count": null,
   "metadata": {},
   "outputs": [],
   "source": [
    "import pandas as pd\n",
    "\n",
    "#loads all saved results into a dataframe for analysis\n",
    "df = pd.read_json('results.json', lines=True)\n"
   ]
  }
 ],
 "metadata": {
  "kernelspec": {
   "display_name": "Python 3 (ipykernel)",
   "language": "python",
   "name": "python3"
  },
  "language_info": {
   "codemirror_mode": {
    "name": "ipython",
    "version": 3
   },
   "file_extension": ".py",
   "mimetype": "text/x-python",
   "name": "python",
   "nbconvert_exporter": "python",
   "pygments_lexer": "ipython3",
   "version": "3.9.19"
  }
 },
 "nbformat": 4,
 "nbformat_minor": 4
}
