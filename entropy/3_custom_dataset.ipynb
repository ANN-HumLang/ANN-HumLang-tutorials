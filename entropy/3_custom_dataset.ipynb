{
 "cells": [
  {
   "cell_type": "markdown",
   "metadata": {},
   "source": [
    "# Custom Datasets\n",
    "You can create your own datasets by writing examples and labels to json. Then loading them with the datasets package and push to hugging face. You will need to autheticate with a hugging face api token. Documentation on how to login can be found here:\n",
    "\n",
    "https://huggingface.co/docs/huggingface_hub/main/en/guides/cli#huggingface-cli-login"
   ]
  },
  {
   "cell_type": "code",
   "execution_count": null,
   "metadata": {},
   "outputs": [],
   "source": [
    "#import hugging face datasets, and json so we can write the local data\n",
    "from datasets import load_dataset\n",
    "import json"
   ]
  },
  {
   "cell_type": "code",
   "execution_count": null,
   "metadata": {},
   "outputs": [],
   "source": [
    "#Define sentences and corresponding binary labels\n",
    "sentences = [\n",
    "    'That man is short', \n",
    "    'That man is not tall', \n",
    "    'That lamp is tall', \n",
    "    'That lamp is not tall'\n",
    "]\n",
    "\n",
    "labels = ['control', 'negation', 'control', 'negation']\n",
    "labels = ['man', 'man', 'lamp', 'lamp']\n",
    "labels = ['man_control', 'man_negation', 'lamp_control', 'lamp_negation']"
   ]
  },
  {
   "cell_type": "code",
   "execution_count": null,
   "metadata": {},
   "outputs": [],
   "source": [
    "#Iterate through sentences and labels and write\n",
    "#examples to a file\n",
    "path_to_examples = 'my_data.json'\n",
    "\n",
    "for example_id in range(len(sentences)):\n",
    "    ex_data = {}\n",
    "    ex_data['sentence'] = sentences[example_id]\n",
    "    ex_data['label'] = labels[example_id]\n",
    "    with open(path_to_examples, \"a\") as outfile:\n",
    "        outfile.write(json.dumps(ex_data)+'\\n')"
   ]
  },
  {
   "cell_type": "code",
   "execution_count": null,
   "metadata": {},
   "outputs": [],
   "source": [
    "#load the dataset and push to hub - write in your own\n",
    "#hugging face id\n",
    "hugging_face_user = 'hcoxec'\n",
    "dataset_id = f\"{hugging_face_user}/lamp_polarity\"\n",
    "\n",
    "data_files=[path_to_examples]\n",
    "lang_d = load_dataset(\"json\", data_files=data_files)\n",
    "lang_d.push_to_hub(dataset_id)"
   ]
  }
 ],
 "metadata": {
  "kernelspec": {
   "display_name": "seq2sign",
   "language": "python",
   "name": "python3"
  },
  "language_info": {
   "codemirror_mode": {
    "name": "ipython",
    "version": 3
   },
   "file_extension": ".py",
   "mimetype": "text/x-python",
   "name": "python",
   "nbconvert_exporter": "python",
   "pygments_lexer": "ipython3",
   "version": "3.8.18"
  }
 },
 "nbformat": 4,
 "nbformat_minor": 2
}
